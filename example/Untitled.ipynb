{
 "cells": [
  {
   "cell_type": "code",
   "execution_count": 1,
   "metadata": {
    "collapsed": false
   },
   "outputs": [
    {
     "ename": "SyntaxError",
     "evalue": "invalid syntax (<ipython-input-1-7c212e5ec821>, line 7)",
     "output_type": "error",
     "traceback": [
      "\u001b[1;36m  File \u001b[1;32m\"<ipython-input-1-7c212e5ec821>\"\u001b[1;36m, line \u001b[1;32m7\u001b[0m\n\u001b[1;33m    f1_body = [0;0;-keng*wmotor1^2];\u001b[0m\n\u001b[1;37m                ^\u001b[0m\n\u001b[1;31mSyntaxError\u001b[0m\u001b[1;31m:\u001b[0m invalid syntax\n"
     ]
    }
   ],
   "source": [
    "using SymPy\n",
    "\n",
    "wmotor1 = Sym(\"wmotor1\");\n",
    "wmotor2 = Sym(\"wmotor2\");\n",
    "wmotor3 = Sym(\"wmotor3\");\n",
    "wmotor4 = Sym(\"wmotor4\");\n",
    "\n",
    "## Propeller Forces\n",
    "keng = 6.11e-8;\n",
    "f1_body = [0;0;-keng*wmotor1^2];\n",
    "f2_body = [0;0;-keng*wmotor2^2];\n",
    "f3_body = [0;0;-keng*wmotor3^2];\n",
    "f4_body = [0;0;-keng*wmotor4^2];\n",
    "\n",
    "## Propeller Moments\n",
    "kmeng = 1.5e-9;\n",
    "m1_body = [0;0;-kmeng*wmotor1^2];\n",
    "m2_body = [0;0;kmeng*wmotor2^2];\n",
    "m3_body = [0;0;-kmeng*wmotor3^2];\n",
    "m4_body = [0;0;kmeng*wmotor4^2];\n",
    "\n",
    "## Moment arm from CG to Propeller Hub;\n",
    "Larm = 0.15;\n",
    "r1_arm_body = [ Larm*cosd(45); -Larm*sind(45); 0.0];\n",
    "r2_arm_body = [ Larm*cosd(45);  Larm*sind(45); 0.0];\n",
    "r3_arm_body = [-Larm*cosd(45);  Larm*sind(45); 0.0];\n",
    "r4_arm_body = [-Larm*cosd(45); -Larm*sind(45); 0.0];\n",
    "\n",
    "## Total Moment due to Motors\n",
    "m1_body = m1_body + cross(r1_arm_body, f1_body);\n",
    "m2_body = m2_body + cross(r2_arm_body, f2_body);\n",
    "m3_body = m3_body + cross(r3_arm_body, f3_body);\n",
    "m4_body = m4_body + cross(r4_arm_body, f4_body);\n"
   ]
  },
  {
   "cell_type": "code",
   "execution_count": 7,
   "metadata": {
    "collapsed": false
   },
   "outputs": [
    {
     "name": "stdout",
     "output_type": "stream",
     "text": [
      "error: 'm1_body' undefined near line 1 column 1\r\n"
     ]
    }
   ],
   "source": [
    "m1_body"
   ]
  },
  {
   "cell_type": "code",
   "execution_count": 9,
   "metadata": {
    "collapsed": false
   },
   "outputs": [
    {
     "name": "stdout",
     "output_type": "stream",
     "text": [
      "error: concatenation operator not implemented for 'matrix' by 'ex' operations\r\n"
     ]
    }
   ],
   "source": [
    "m1_body = [0.0;0.0;-kmeng*wmotor1^2];"
   ]
  },
  {
   "cell_type": "code",
   "execution_count": null,
   "metadata": {
    "collapsed": true
   },
   "outputs": [],
   "source": []
  }
 ],
 "metadata": {
  "kernelspec": {
   "display_name": "Julia 0.4.6",
   "language": "julia",
   "name": "julia-0.4"
  },
  "language_info": {
   "file_extension": ".jl",
   "mimetype": "application/julia",
   "name": "julia",
   "version": "0.4.6"
  }
 },
 "nbformat": 4,
 "nbformat_minor": 0
}
