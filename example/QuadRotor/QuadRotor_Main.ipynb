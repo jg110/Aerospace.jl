{
 "cells": [
  {
   "cell_type": "code",
   "execution_count": 1,
   "metadata": {
    "collapsed": false
   },
   "outputs": [],
   "source": [
    "############################################################################\n",
    "#\n",
    "#  main.jl\n",
    "#\n",
    "#  Purpose:    Main routine for Quadrotor simulation.\n",
    "#\n",
    "#  Author:     Edward Daughtery\n",
    "#\n",
    "#  Date:       05 August 2016\n",
    "#\n",
    "#\n",
    "############################################################################\n",
    "using PyPlot\n",
    "using Aerospace\n",
    "using Debug\n",
    "include(\"Quad_Types.jl\")\n",
    "using Quad_Types\n",
    "include(\"Software.jl\")\n",
    "include(\"Quadrotor.jl\")\n",
    "include(\"Quad_Forces.jl\")\n",
    "\n",
    "# Simulation Control\n",
    "time = 0.0;\n",
    "dt = 0.01;\n",
    "tfinal = 10.0;  \n",
    "\n",
    "## Number of Sample points\n",
    "nn = (tfinal - time)/dt + 1;\n",
    "NN = UInt(nn);\n",
    "\n",
    "TT = zeros(NN);\n",
    "ALT = zeros(NN);\n",
    "VMAG = zeros(NN);\n",
    "GAM = zeros(NN);\n",
    "AZ = zeros(NN);\n",
    "ROLL = zeros(NN);\n",
    "PITCH = zeros(NN);\n",
    "HEADING = zeros(NN);\n",
    "W1 = zeros(NN);\n",
    "W2 = zeros(NN);\n",
    "W3 = zeros(NN);\n",
    "W4 = zeros(NN);\n",
    "\n",
    "## Position Initialization\n",
    "latitude = 0.0*d2r;\n",
    "longitude = 0.0*d2r;\n",
    "altitude = 0.0*d2r;\n",
    "position = InitPos( time, latitude, longitude, altitude );\n",
    "\n",
    "## Velocity Initialization\n",
    "vmag = 0.0;\n",
    "gamma = 0.0*d2r;\n",
    "azimuth = 0.0*d2r;\n",
    "velocity = InitVel( vmag, gamma, azimuth, position );\n",
    "\n",
    "# Attitude Initialization\n",
    "roll = 0.0*d2r;\n",
    "pitch = 0.0*d2r;\n",
    "heading = 0.0*d2r;\n",
    "euler = InitEuler(roll, pitch, heading);\n",
    "\n",
    "# Angle Rate Intialization\n",
    "wb_bn_body = [0.0;0.0;0.0];\n",
    "angle_rates = InitAngleRates(wb_bn_body, position, euler);\n",
    "\n",
    "# Quadrotor Initialization\n",
    "quad1 = QuadInit( time, dt, position, velocity, euler, angle_rates );"
   ]
  },
  {
   "cell_type": "code",
   "execution_count": 7,
   "metadata": {
    "collapsed": false
   },
   "outputs": [
    {
     "name": "stdout",
     "output_type": "stream",
     "text": [
      "II = [2.32 0.0 0.0\n",
      " 0.0 2.32 0.0\n",
      " 0.0 0.0 4.0]\n",
      "\n",
      "mass = 0.5\n",
      "\n"
     ]
    }
   ],
   "source": [
    "println(\"II = \\n\",quad1.airframe.massprops.II,\"\\n\")\n",
    "println(\"mass = \",quad1.airframe.massprops.mass,\"\\n\")"
   ]
  },
  {
   "cell_type": "code",
   "execution_count": null,
   "metadata": {
    "collapsed": true
   },
   "outputs": [],
   "source": []
  }
 ],
 "metadata": {
  "kernelspec": {
   "display_name": "Julia 0.4.6",
   "language": "julia",
   "name": "julia-0.4"
  },
  "language_info": {
   "file_extension": ".jl",
   "mimetype": "application/julia",
   "name": "julia",
   "version": "0.4.6"
  }
 },
 "nbformat": 4,
 "nbformat_minor": 0
}
