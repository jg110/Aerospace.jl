{
 "cells": [
  {
   "cell_type": "code",
   "execution_count": 3,
   "metadata": {
    "collapsed": false
   },
   "outputs": [
    {
     "name": "stderr",
     "output_type": "stream",
     "text": [
      "Float64, 1}, Aerospace"
     ]
    }
   ],
   "source": [
    "############################################################################\n",
    "#\n",
    "#  main.jl\n",
    "#\n",
    "#  Purpose:    Main routine for Quadrotor simulation.\n",
    "#\n",
    "#  Author:     Edward Daughtery\n",
    "#\n",
    "#  Date:       05 August 2016\n",
    "#\n",
    "#\n",
    "############################################################################\n",
    "using PyPlot\n",
    "using Aerospace\n",
    "include(\"Missile_Types.jl\")\n",
    "using Missile_Types\n",
    "include(\"Guidance.jl\")\n",
    "include(\"Software.jl\")\n",
    "include(\"CruiseMissile5.jl\")\n",
    "\n",
    "# Closing all Figures\n",
    "CloseAll();\n",
    "\n",
    "# Simulation Control\n",
    "time = 0.0;\n",
    "dt = 0.01;\n",
    "tfinal = 10.0;\n",
    "\n",
    "## Number of Sample points\n",
    "nn = (tfinal - time)/dt + 1;\n",
    "NN = UInt(nn);\n",
    "\n",
    "TT = zeros(NN);\n",
    "ALT = zeros(NN);\n",
    "VMAG = zeros(NN);\n",
    "GAM = zeros(NN);\n",
    "AZ = zeros(NN);\n",
    "ROLL = zeros(NN);\n",
    "PITCH = zeros(NN);\n",
    "HEADING = zeros(NN);\n",
    "ALPHA = zeros(NN);\n",
    "PHI = zeros(NN);\n",
    "\n",
    "## Position Initialization\n",
    "latitude = 0.0*d2r;\n",
    "longitude = 0.0*d2r;\n",
    "altitude = 4572.0;\n",
    "position = InitPos( time, latitude, longitude, altitude );\n",
    "\n",
    "## Velocity Initialization\n",
    "vmag = 240.0;\n",
    "gamma = 0.0*d2r;\n",
    "azimuth = 0.0*d2r;\n",
    "velocity = InitVel( vmag, gamma, azimuth, position );\n",
    "\n",
    "# Attitude Initialization\n",
    "roll = 0.0*d2r;\n",
    "pitch = 0.0*d2r;\n",
    "heading = 0.0*d2r;\n",
    "euler = InitEuler(roll, pitch, heading);\n",
    "\n",
    "# Angle Rate Intialization\n",
    "wb_bn_body = [0.0;0.0;0.0];\n",
    "angle_rates = InitAngleRates(wb_bn_body, position, euler);\n",
    "\n",
    "# Quadrotor Initialization\n",
    "missile1 = MissileInit( time, dt, position, velocity, euler, angle_rates );\n"
   ]
  },
  {
   "cell_type": "code",
   "execution_count": 4,
   "metadata": {
    "collapsed": false
   },
   "outputs": [
    {
     "name": "stderr",
     "output_type": "stream",
     "text": [
      ".WGS_Pos, Aerospace."
     ]
    },
    {
     "ename": "LoadError",
     "evalue": "type NavStates has no field position",
     "output_type": "error",
     "traceback": [
      "type NavStates has no field position",
      "",
      " in AltitudeControl at C:\\Users\\daughtee\\Documents\\JuliaWork\\CooperativeTechnologies\\Guidance.jl:141 [inlined]",
      " in Update_SW(::Missile_Types.SoftwareMsg) at C:\\Users\\daughtee\\Documents\\JuliaWork\\CooperativeTechnologies\\Software.jl:216",
      " in MissileUpdate(::Missile_Types.Missile) at C:\\Users\\daughtee\\Documents\\JuliaWork\\CooperativeTechnologies\\CruiseMissile5.jl:71",
      " in macro expansion; at .\\In[4]:14 [inlined]",
      " in anonymous at .\\<missing>:?"
     ]
    },
    {
     "name": "stderr",
     "output_type": "stream",
     "text": [
      "Euler_Angles) in module Aerospace at C:\\Users\\daughtee\\AppData\\Local\\JuliaPro-0.5.1.1\\pkgs-0.5.1.1\\v0.5\\Aerospace\\src\\Airframe6DOF.jl:73 overwritten at C:\\Users\\daughtee\\AppData\\Local\\JuliaPro-0.5.1.1\\pkgs-0.5.1.1\\v0.5\\Aerospace\\src\\Airframe5DOF.jl:72.\n",
      "WARNING: Method definition (::Type{Main.GuidType})(UInt64, UInt64, UInt64, Array{Aerospace.WGS_Pos, 1}, Float64, Float64, Array{Float64, 1}, Float64, Float64, Float64, Float64, Float64) in module Main at C:\\Users\\daughtee\\Documents\\JuliaWork\\CooperativeTechnologies\\Guidance.jl:2 overwritten at C:\\Users\\daughtee\\Documents\\JuliaWork\\CooperativeTechnologies\\Guidance.jl:2.\n",
      "WARNING: Method definition (::Type{Main.GuidType})(Any, Any, Any, Any, Any, Any, Any, Any, Any, Any, Any, Any) in module Main at C:\\Users\\daughtee\\Documents\\JuliaWork\\CooperativeTechnologies\\Guidance.jl:2 overwritten at C:\\Users\\daughtee\\Documents\\JuliaWork\\CooperativeTechnologies\\Guidance.jl:2.\n",
      "WARNING: Method definition GuidInit(Array{Aerospace.WGS_Pos, 1}, Float64) in module Main at C:\\Users\\daughtee\\Documents\\JuliaWork\\CooperativeTechnologies\\Guidance.jl:18 overwritten at C:\\Users\\daughtee\\Documents\\JuliaWork\\CooperativeTechnologies\\Guidance.jl:18.\n",
      "WARNING: Method definition CoopFormation(Aerospace.NavStates, Main.GuidType, Array{Float64, 2}, UInt64, UInt64, Array{Main.#CoopFormation(), 1}) in module Main at C:\\Users\\daughtee\\Documents\\JuliaWork\\CooperativeTechnologies\\Guidance.jl:43 overwritten at C:\\Users\\daughtee\\Documents\\JuliaWork\\CooperativeTechnologies\\Guidance.jl:43.\n",
      "WARNING: Method definition AltitudeControl(Aerospace.NavStates, Float64) in module Main at C:\\Users\\daughtee\\Documents\\JuliaWork\\CooperativeTechnologies\\Guidance.jl:140 overwritten at C:\\Users\\daughtee\\Documents\\JuliaWork\\CooperativeTechnologies\\Guidance.jl:140.\n",
      "WARNING: replacing module Missile_Types\n",
      "WARNING: using Missile_Types.SoftwareMsg in module Main conflicts with an existing identifier.\n",
      "WARNING: using Missile_Types.Missile in module Main conflicts with an existing identifier.\n",
      "WARNING: using Missile_Types.Controls in module Main conflicts with an existing identifier.\n",
      "WARNING: using Missile_Types.Aerodynamics in module Main conflicts with an existing identifier.\n",
      "WARNING: Method definition (::Type{Main.GuidType})(UInt64, UInt64, UInt64, Array{Aerospace.WGS_Pos, 1}, Float64, Float64, Array{Float64, 1}, Float64, Float64, Float64, Float64, Float64) in module Main at C:\\Users\\daughtee\\Documents\\JuliaWork\\CooperativeTechnologies\\Guidance.jl:2 overwritten at C:\\Users\\daughtee\\Documents\\JuliaWork\\CooperativeTechnologies\\Guidance.jl:2.\n",
      "WARNING: Method definition (::Type{Main.GuidType})(Any, Any, Any, Any, Any, Any, Any, Any, Any, Any, Any, Any) in module Main at C:\\Users\\daughtee\\Documents\\JuliaWork\\CooperativeTechnologies\\Guidance.jl:2 overwritten at C:\\Users\\daughtee\\Documents\\JuliaWork\\CooperativeTechnologies\\Guidance.jl:2.\n",
      "WARNING: Method definition GuidInit(Array{Aerospace.WGS_Pos, 1}, Float64) in module Main at C:\\Users\\daughtee\\Documents\\JuliaWork\\CooperativeTechnologies\\Guidance.jl:18 overwritten at C:\\Users\\daughtee\\Documents\\JuliaWork\\CooperativeTechnologies\\Guidance.jl:18.\n",
      "WARNING: Method definition CoopFormation(Aerospace.NavStates, Main.GuidType, Array{Float64, 2}, UInt64, UInt64, Array{Main.#CoopFormation(), 1}) in module Main at C:\\Users\\daughtee\\Documents\\JuliaWork\\CooperativeTechnologies\\Guidance.jl:43 overwritten at C:\\Users\\daughtee\\Documents\\JuliaWork\\CooperativeTechnologies\\Guidance.jl:43.\n",
      "WARNING: Method definition AltitudeControl(Aerospace.NavStates, Float64) in module Main at C:\\Users\\daughtee\\Documents\\JuliaWork\\CooperativeTechnologies\\Guidance.jl:140 overwritten at C:\\Users\\daughtee\\Documents\\JuliaWork\\CooperativeTechnologies\\Guidance.jl:140.\n",
      "WARNING: Method definition (::Type{Main.GuidType})(UInt64, UInt64, UInt64, Array{Aerospace.WGS_Pos, 1}, Float64, Float64, Array{Float64, 1}, Float64, Float64, Float64, Float64, Float64) in module Main at C:\\Users\\daughtee\\Documents\\JuliaWork\\CooperativeTechnologies\\Guidance.jl:2 overwritten at C:\\Users\\daughtee\\Documents\\JuliaWork\\CooperativeTechnologies\\Guidance.jl:2.\n",
      "WARNING: Method definition (::Type{Main.GuidType})(Any, Any, Any, Any, Any, Any, Any, Any, Any, Any, Any, Any) in module Main at C:\\Users\\daughtee\\Documents\\JuliaWork\\CooperativeTechnologies\\Guidance.jl:2 overwritten at C:\\Users\\daughtee\\Documents\\JuliaWork\\CooperativeTechnologies\\Guidance.jl:2.\n",
      "WARNING: Method definition GuidInit(Array{Aerospace.WGS_Pos, 1}, Float64) in module Main at C:\\Users\\daughtee\\Documents\\JuliaWork\\CooperativeTechnologies\\Guidance.jl:18 overwritten at C:\\Users\\daughtee\\Documents\\JuliaWork\\CooperativeTechnologies\\Guidance.jl:18.\n",
      "WARNING: Method definition CoopFormation(Aerospace.NavStates, Main.GuidType, Array{Float64, 2}, UInt64, UInt64, Array{Main.#CoopFormation(), 1}) in module Main at C:\\Users\\daughtee\\Documents\\JuliaWork\\CooperativeTechnologies\\Guidance.jl:43 overwritten at C:\\Users\\daughtee\\Documents\\JuliaWork\\CooperativeTechnologies\\Guidance.jl:43.\n",
      "WARNING: Method definition AltitudeControl(Aerospace.NavStates, Float64) in module Main at C:\\Users\\daughtee\\Documents\\JuliaWork\\CooperativeTechnologies\\Guidance.jl:140 overwritten at C:\\Users\\daughtee\\Documents\\JuliaWork\\CooperativeTechnologies\\Guidance.jl:140.\n",
      "WARNING: Method definition Initialize_SW(Float64, Float64, Aerospace.NavStates) in module Main at C:\\Users\\daughtee\\Documents\\JuliaWork\\CooperativeTechnologies\\Software.jl:18 overwritten at C:\\Users\\daughtee\\Documents\\JuliaWork\\CooperativeTechnologies\\Software.jl:18.\n",
      "WARNING: Method definition FlightControl(Missile_Types.SoftwareMsg, Float64, Float64) in module Main at C:\\Users\\daughtee\\Documents\\JuliaWork\\CooperativeTechnologies\\Software.jl:51 overwritten at C:\\Users\\daughtee\\Documents\\JuliaWork\\CooperativeTechnologies\\Software.jl:51.\n",
      "WARNING: Method definition Steering(Aerospace.NavStates, Array{Float64, 1}) in module Main at C:\\Users\\daughtee\\Documents\\JuliaWork\\CooperativeTechnologies\\Software.jl:115 overwritten at C:\\Users\\daughtee\\Documents\\JuliaWork\\CooperativeTechnologies\\Software.jl:115.\n",
      "WARNING: Method definition SpeedControl(Aerospace.NavStates, Float64, Missile_Types.SoftwareMsg) in module Main at C:\\Users\\daughtee\\Documents\\JuliaWork\\CooperativeTechnologies\\Software.jl:152 overwritten at C:\\Users\\daughtee\\Documents\\JuliaWork\\CooperativeTechnologies\\Software.jl:152.\n",
      "WARNING: Method definition Update_SW(Missile_Types.SoftwareMsg) in module Main at C:\\Users\\daughtee\\Documents\\JuliaWork\\CooperativeTechnologies\\Software.jl:201 overwritten at C:\\Users\\daughtee\\Documents\\JuliaWork\\CooperativeTechnologies\\Software.jl:201.\n",
      "WARNING: Method definition Mass_Props() in module Main at C:\\Users\\daughtee\\Documents\\JuliaWork\\CooperativeTechnologies\\CruiseMissile5.jl:17 overwritten at C:\\Users\\daughtee\\Documents\\JuliaWork\\CooperativeTechnologies\\CruiseMissile5.jl:17.\n",
      "WARNING: Method definition MissileInit(Float64, Float64, Aerospace.WGS_Pos, Aerospace.Velocity_States, Aerospace.Euler_Angles, Aerospace.Angle_Rates) in module Main at C:\\Users\\daughtee\\Documents\\JuliaWork\\CooperativeTechnologies\\CruiseMissile5.jl:27 overwritten at C:\\Users\\daughtee\\Documents\\JuliaWork\\CooperativeTechnologies\\CruiseMissile5.jl:27.\n",
      "WARNING: Method definition MissileUpdate(Missile_Types.Missile) in module Main at C:\\Users\\daughtee\\Documents\\JuliaWork\\CooperativeTechnologies\\CruiseMissile5.jl:55 overwritten at C:\\Users\\daughtee\\Documents\\JuliaWork\\CooperativeTechnologies\\CruiseMissile5.jl:55.\n",
      "WARNING: Method definition Aerodynamics(Float64, Float64, Float64, Float64, Float64, Array{Float64, 2}) in module Main at C:\\Users\\daughtee\\Documents\\JuliaWork\\CooperativeTechnologies\\CruiseMissile5.jl:119 overwritten at C:\\Users\\daughtee\\Documents\\JuliaWork\\CooperativeTechnologies\\CruiseMissile5.jl:119.\n",
      "WARNING: Method definition Propulsion(Float64) in module Main at C:\\Users\\daughtee\\Documents\\JuliaWork\\CooperativeTechnologies\\CruiseMissile5.jl:153 overwritten at C:\\Users\\daughtee\\Documents\\JuliaWork\\CooperativeTechnologies\\CruiseMissile5.jl:153.\n"
     ]
    }
   ],
   "source": [
    "\n",
    "for i = 1:NN\n",
    "    # Plotting Parameters\n",
    "    TT[i] = time;\n",
    "    VMAG[i] = missile1.airframe.velocity.vmag;\n",
    "    ROLL[i] = missile1.airframe.euler.roll*r2d;\n",
    "    PITCH[i] = missile1.airframe.euler.pitch*r2d;\n",
    "    HEADING[i] = missile1.airframe.euler.heading*r2d;\n",
    "    ALT[i] = missile1.airframe.position.altitude;\n",
    "    ALPHA[i] = missile1.control.alpha*r2d;\n",
    "    PHI[i] = missile1.control.phi*r2d;\n",
    "    \n",
    "    # Update\n",
    "    missile1 = MissileUpdate(missile1);\n",
    "    time = time + dt;\n",
    "\n",
    "end\n",
    "\n",
    "figure()\n",
    "plot(TT, ALT)\n",
    "grid\n",
    "xlabel(\"Time (s)\")\n",
    "ylabel(\"Altitude (m)\")\n",
    "\n",
    "figure()\n",
    "plot(TT, VMAG)\n",
    "grid\n",
    "xlabel(\"Time (s)\")\n",
    "ylabel(\"Vmag (m/s)\")\n",
    "\n",
    "\n",
    "figure()\n",
    "hold(\"on\")\n",
    "plot(TT, ROLL,\"b\")\n",
    "plot(TT, PITCH,\"r\")\n",
    "plot(TT, HEADING, \"g\")\n",
    "grid\n",
    "xlabel(\"Time (s)\")\n",
    "ylabel(\"Euler Angles (deg)\")\n",
    "legend([\"Roll\",\"Pitch\",\"Yaw\"])\n",
    "\n",
    "figure()\n",
    "plot( TT, ALPHA)\n",
    "grid\n",
    "xlabel(\"Time (s)\")\n",
    "ylabel(\"Alpha (deg)\")\n",
    "\n",
    "figure()\n",
    "plot(TT, HEADING)\n",
    "grid\n",
    "xlabel(\"Time (s)\")\n",
    "ylabel(\"Heading (deg)\")\n"
   ]
  },
  {
   "cell_type": "code",
   "execution_count": null,
   "metadata": {
    "collapsed": true
   },
   "outputs": [],
   "source": []
  },
  {
   "cell_type": "code",
   "execution_count": null,
   "metadata": {
    "collapsed": true
   },
   "outputs": [],
   "source": []
  },
  {
   "cell_type": "code",
   "execution_count": null,
   "metadata": {
    "collapsed": true
   },
   "outputs": [],
   "source": []
  },
  {
   "cell_type": "code",
   "execution_count": null,
   "metadata": {
    "collapsed": true
   },
   "outputs": [],
   "source": []
  }
 ],
 "metadata": {
  "kernelspec": {
   "display_name": "Julia 0.5.1",
   "language": "julia",
   "name": "julia-0.5"
  },
  "language_info": {
   "file_extension": ".jl",
   "mimetype": "application/julia",
   "name": "julia",
   "version": "0.5.1"
  }
 },
 "nbformat": 4,
 "nbformat_minor": 2
}
